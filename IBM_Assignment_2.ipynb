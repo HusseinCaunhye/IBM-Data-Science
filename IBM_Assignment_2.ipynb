{
 "cells": [
  {
   "cell_type": "markdown",
   "id": "ea0991e4-5782-465c-802d-2e773d16eab0",
   "metadata": {},
   "source": [
    "# My Jupyter Notebook on IBM Watson Studio"
   ]
  },
  {
   "cell_type": "markdown",
   "id": "169f9d74-5eaa-4179-bae5-e9185584553a",
   "metadata": {},
   "source": [
    "**Junnuth Hussein Caunhye**<br>\n",
    "Chief Technology Officer"
   ]
  },
  {
   "cell_type": "markdown",
   "id": "709a8a08-7c3e-4a8c-ad4b-501a7d626729",
   "metadata": {},
   "source": [
    "*I am interested in data science because it is a disclipline that, in the near future, will be instrumental in the heart of every industry - that is, if it is not already. A business entity's prosperity will directly be affected by their willingness to adopt decision-making values based on data-driven insights in the age where, more than ever, information and data is produced at unfathomable scales and velocity.*"
   ]
  },
  {
   "cell_type": "markdown",
   "id": "337592f3-5823-4215-a545-36f39907539c",
   "metadata": {
    "tags": []
   },
   "source": [
    "### The code below presents the result of adding two values: 2 and 3, for which the reaulting value is 5."
   ]
  },
  {
   "cell_type": "code",
   "execution_count": 1,
   "id": "56ea74b6-1da1-4a06-bba8-63de324c9c51",
   "metadata": {},
   "outputs": [
    {
     "name": "stdout",
     "output_type": "stream",
     "text": [
      "5\n"
     ]
    }
   ],
   "source": [
    "print(2+3)"
   ]
  },
  {
   "cell_type": "markdown",
   "id": "11fb60b2-2242-4076-8a79-5c1906bb7623",
   "metadata": {},
   "source": [
    "***\n",
    "#### <a href= \"https://companiesmarketcap.com/\" >Top 5 Companies ranked by Market Cap (22/08/2022) </a> </br>\n",
    "|  `Rank`  | Company |\n",
    "| -------- | ------- |\n",
    "|   `1   `    | Apple |\n",
    "|   `2   `    | Saudi Aramco |\n",
    "|   `3   `    | Microsoft |\n",
    "|   `4   `    | Alphabet (Google) |\n",
    "|   `5   `    | Amazon |\n",
    "| ~~6~~  | ~~Tesla~~ |\n",
    "***\n"
   ]
  }
 ],
 "metadata": {
  "kernelspec": {
   "display_name": "Python 3 (ipykernel)",
   "language": "python",
   "name": "python3"
  },
  "language_info": {
   "codemirror_mode": {
    "name": "ipython",
    "version": 3
   },
   "file_extension": ".py",
   "mimetype": "text/x-python",
   "name": "python",
   "nbconvert_exporter": "python",
   "pygments_lexer": "ipython3",
   "version": "3.9.12"
  }
 },
 "nbformat": 4,
 "nbformat_minor": 5
}
